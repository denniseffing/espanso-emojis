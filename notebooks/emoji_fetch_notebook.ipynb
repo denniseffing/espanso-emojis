{
 "cells": [
  {
   "cell_type": "code",
   "execution_count": 3,
   "metadata": {},
   "outputs": [],
   "source": [
    "from bs4 import BeautifulSoup\n",
    "from urllib.request import urlopen\n",
    "import pandas as pd\n",
    "from pathlib import Path\n",
    "import re\n",
    "import json"
   ]
  },
  {
   "cell_type": "code",
   "execution_count": 8,
   "metadata": {},
   "outputs": [],
   "source": [
    "url = \"https://unicode.org/emoji/charts/full-emoji-list.html\"\n",
    "page = urlopen(url)\n",
    "html = page.read().decode(\"utf-8\")\n",
    "soup = BeautifulSoup(html, \"html.parser\")\n",
    "\n",
    "# shortcodes fetched from https://unpkg.com/emojilib@2.4.0/emojis.json\n",
    "# from the package Emojilib found here https://github.com/muan/emojilib\n",
    "shortcodes_df = pd.read_json('../emoji_shortcodes.json', orient='index')\n",
    "\n",
    "OUTPUT_DIR = str(Path.cwd()) + \"/emojis.csv\"\n",
    "\n",
    "table_rows = soup.find_all('tr')"
   ]
  },
  {
   "cell_type": "code",
   "execution_count": 9,
   "metadata": {},
   "outputs": [],
   "source": [
    "def combine_codes(code):\n",
    "    # convert codes to string and convert to correct format\n",
    "    code_list = code.split(\"+\")\n",
    "    emoji_code = code_list[-1]\n",
    "    length = len(emoji_code)\n",
    "    diff = int(8 - length)\n",
    "    zeros = str(\"0\" * diff)\n",
    "    return \"\\\\U\" + zeros + emoji_code"
   ]
  },
  {
   "cell_type": "code",
   "execution_count": 18,
   "metadata": {},
   "outputs": [],
   "source": [
    "# create dictionary to store values\n",
    "data = {\"code\": [],\n",
    "        \"chars\": [],\n",
    "        \"name\": []}\n",
    "\n",
    "# iterate through rows in <tr>\n",
    "for rows in table_rows:\n",
    "    # get lists of all the <td> with class of \"code\" or \"name\"\n",
    "    emoji_codes = rows.find_all(class_=\"code\")\n",
    "    emoji_names = rows.find_all(class_=\"name\")\n",
    "    emoji_chars = rows.find_all(class_=\"chars\")\n",
    "\n",
    "    for code in emoji_codes:\n",
    "        unicode = str(code.text)\n",
    "        code_list = unicode.split(\" \")\n",
    "        emoji_code = \"\".join(list(map(combine_codes, code_list)))\n",
    "\n",
    "        data[\"code\"].append(emoji_code)\n",
    "\n",
    "    for char in emoji_codes:\n",
    "        data[\"chars\"].append(char.text)\n",
    "\n",
    "    for name in emoji_names:\n",
    "        # convert names to strings, remove ⊛ symbols and reformat certain emojis (e.g. family and flags)\n",
    "        emoji_name = str(name.text)\n",
    "\n",
    "        if emoji_name[0] == \"⊛\":\n",
    "            emoji_name = emoji_name[2:]\n",
    "\n",
    "        # emoji_name = emoji_name.replace(\" \", \"_\") # _'s or spaces\n",
    "        # emoji_name = emoji_name.replace(\"’\", \"\") # remove - (e.g. see-no-evil_monkey)\n",
    "        # emoji_name = emoji_name.replace(\".\", \"\") # remove . (e.g. mrs._claus)\n",
    "        # emoji_name = emoji_name.replace(\"-\", \"_\") # replace ' (e.g. twelve_o’clock)\n",
    "        # emoji_name = emoji_name.replace(\":\", \"\") # replace : (e.g. woman: blond hair)\n",
    "\n",
    "        # emoji_name = emoji_name.replace(\",\", \"\")\n",
    "        # emoji_name = emoji_name.replace(\"\\\"\", \"\")\n",
    "        # emoji_name = emoji_name.replace(\"flag_\", \"\")\n",
    "        # emoji_name = emoji_name.replace(\"o clock\", \"\")\n",
    "        # emoji_name = emoji_name.replace(\" s \", \"s \")\n",
    "        # emoji_name = emoji_name.replace(\"“\", \"_\")\n",
    "        # emoji_name = emoji_name.replace(\"”\", \"_\")\n",
    "\n",
    "        data[\"name\"].append(emoji_name.lower())"
   ]
  },
  {
   "cell_type": "code",
   "execution_count": 19,
   "metadata": {},
   "outputs": [
    {
     "data": {
      "text/html": [
       "<div>\n",
       "<style scoped>\n",
       "    .dataframe tbody tr th:only-of-type {\n",
       "        vertical-align: middle;\n",
       "    }\n",
       "\n",
       "    .dataframe tbody tr th {\n",
       "        vertical-align: top;\n",
       "    }\n",
       "\n",
       "    .dataframe thead th {\n",
       "        text-align: right;\n",
       "    }\n",
       "</style>\n",
       "<table border=\"1\" class=\"dataframe\">\n",
       "  <thead>\n",
       "    <tr style=\"text-align: right;\">\n",
       "      <th></th>\n",
       "      <th>code</th>\n",
       "      <th>chars</th>\n",
       "      <th>name</th>\n",
       "    </tr>\n",
       "  </thead>\n",
       "  <tbody>\n",
       "    <tr>\n",
       "      <th>0</th>\n",
       "      <td>\\U0001F600</td>\n",
       "      <td>None</td>\n",
       "      <td>grinning face</td>\n",
       "    </tr>\n",
       "    <tr>\n",
       "      <th>1</th>\n",
       "      <td>\\U0001F603</td>\n",
       "      <td>None</td>\n",
       "      <td>grinning face with big eyes</td>\n",
       "    </tr>\n",
       "    <tr>\n",
       "      <th>2</th>\n",
       "      <td>\\U0001F604</td>\n",
       "      <td>None</td>\n",
       "      <td>grinning face with smiling eyes</td>\n",
       "    </tr>\n",
       "    <tr>\n",
       "      <th>3</th>\n",
       "      <td>\\U0001F601</td>\n",
       "      <td>None</td>\n",
       "      <td>beaming face with smiling eyes</td>\n",
       "    </tr>\n",
       "    <tr>\n",
       "      <th>4</th>\n",
       "      <td>\\U0001F606</td>\n",
       "      <td>None</td>\n",
       "      <td>grinning squinting face</td>\n",
       "    </tr>\n",
       "  </tbody>\n",
       "</table>\n",
       "</div>"
      ],
      "text/plain": [
       "         code chars                             name\n",
       "0  \\U0001F600  None                    grinning face\n",
       "1  \\U0001F603  None      grinning face with big eyes\n",
       "2  \\U0001F604  None  grinning face with smiling eyes\n",
       "3  \\U0001F601  None   beaming face with smiling eyes\n",
       "4  \\U0001F606  None          grinning squinting face"
      ]
     },
     "execution_count": 19,
     "metadata": {},
     "output_type": "execute_result"
    }
   ],
   "source": [
    "df = pd.DataFrame(data=data)\n",
    "df.head()"
   ]
  }
 ],
 "metadata": {
  "kernelspec": {
   "display_name": "Python 3",
   "language": "python",
   "name": "python3"
  },
  "language_info": {
   "codemirror_mode": {
    "name": "ipython",
    "version": 3
   },
   "file_extension": ".py",
   "mimetype": "text/x-python",
   "name": "python",
   "nbconvert_exporter": "python",
   "pygments_lexer": "ipython3",
   "version": "3.11.0"
  },
  "orig_nbformat": 4,
  "vscode": {
   "interpreter": {
    "hash": "c261aea317cc0286b3b3261fbba9abdec21eaa57589985bb7a274bf54d6cc0a7"
   }
  }
 },
 "nbformat": 4,
 "nbformat_minor": 2
}
