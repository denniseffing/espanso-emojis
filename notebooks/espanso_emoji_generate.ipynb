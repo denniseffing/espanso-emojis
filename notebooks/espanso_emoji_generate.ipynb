{
 "cells": [
  {
   "attachments": {},
   "cell_type": "markdown",
   "metadata": {},
   "source": [
    "## Imports"
   ]
  },
  {
   "cell_type": "code",
   "execution_count": 1,
   "metadata": {},
   "outputs": [],
   "source": [
    "from bs4 import BeautifulSoup\n",
    "from urllib.request import urlopen\n",
    "import pandas as pd\n",
    "from pathlib import Path\n",
    "import re\n",
    "import json\n",
    "import numpy as np\n",
    "from pathlib import Path\n",
    "import yaml\n",
    "from gensim.utils import deaccent"
   ]
  },
  {
   "attachments": {},
   "cell_type": "markdown",
   "metadata": {},
   "source": [
    "## Variables"
   ]
  },
  {
   "cell_type": "code",
   "execution_count": 2,
   "metadata": {},
   "outputs": [],
   "source": [
    "url = \"https://unicode.org/emoji/charts/full-emoji-list.html\"\n",
    "page = urlopen(url)\n",
    "html = page.read().decode(\"utf-8\")\n",
    "soup = BeautifulSoup(html, \"html.parser\")\n",
    "\n",
    "# shortcodes fetched from https://unpkg.com/emojilib@2.4.0/emojis.json\n",
    "# from the package Emojilib found here https://github.com/muan/emojilib\n",
    "shortcodes_df = pd.read_json('../emoji_shortcodes.json', orient='index')\n",
    "\n",
    "CSV_OUTPUT_DIR = str(Path.cwd()) + \"/emojis.csv\"\n",
    "PACKAGE_OUTPUT_DIR = str(Path.cwd()) + \"package.yml\"\n",
    "\n",
    "table_rows = soup.find_all('tr')"
   ]
  },
  {
   "attachments": {},
   "cell_type": "markdown",
   "metadata": {},
   "source": [
    "## Functions"
   ]
  },
  {
   "cell_type": "code",
   "execution_count": 3,
   "metadata": {},
   "outputs": [],
   "source": [
    "def combine_codes(code):\n",
    "    # convert codes to string and convert to correct format\n",
    "    code_list = code.split(\"+\")\n",
    "    emoji_code = code_list[-1]\n",
    "    length = len(emoji_code)\n",
    "    diff = int(8 - length)\n",
    "    zeros = str(\"0\" * diff)\n",
    "    return \"\\\\U\" + zeros + emoji_code"
   ]
  },
  {
   "cell_type": "code",
   "execution_count": 4,
   "metadata": {},
   "outputs": [],
   "source": [
    "def shortcode_cleanup(shortcode):\n",
    "    shortcode = shortcode.replace(\".\", \"\") # remove . (e.g. mrs._claus)\n",
    "    shortcode = shortcode.replace(\":\", \"\") # replace : (e.g. woman: blond hair)\n",
    "    shortcode = deaccent(shortcode)\n",
    "\n",
    "    return shortcode"
   ]
  },
  {
   "cell_type": "code",
   "execution_count": 5,
   "metadata": {},
   "outputs": [],
   "source": [
    "def convert_to_spaces(df, convert):\n",
    "    for index in df.index:\n",
    "        if convert == True:\n",
    "            df.loc[index, \"shortcode\"] = df.loc[index, \"shortcode\"].replace(\"_\", \" \")\n",
    "        elif convert == False:\n",
    "            df.loc[index, \"shortcode\"] = df.loc[index, \"shortcode\"].replace(\" \", \"_\")"
   ]
  },
  {
   "cell_type": "code",
   "execution_count": 6,
   "metadata": {},
   "outputs": [],
   "source": [
    "def generate_yaml(df):\n",
    "    # define yml elements\n",
    "    matches = \"matches:\\n\"\n",
    "    trigger = \"  - trigger: \"\n",
    "    replace = \"\\n    replace: \"\n",
    "\n",
    "    body = \"\"\n",
    "\n",
    "    # iterate through df and add to output string\n",
    "    for index, row in df.iterrows():\n",
    "        name = row[\"shortcode\"]\n",
    "        code = row[\"unicode\"]\n",
    "\n",
    "        name = \"\\\":\" + name + \":\\\"\"\n",
    "        code = \"\\\"\" + code + \"\\\"\"\n",
    "\n",
    "        emoji_item = trigger + name + replace + code + \"\\n\"\n",
    "        body = body + emoji_item\n",
    "\n",
    "    yml_output = matches + body\n",
    "    yml_safe = yaml.safe_load(yml_output)\n",
    "\n",
    "    # save to yml file\n",
    "    with open(PACKAGE_OUTPUT_DIR, \"w\") as file:\n",
    "        yaml.dump(yml_safe, file)"
   ]
  },
  {
   "attachments": {},
   "cell_type": "markdown",
   "metadata": {},
   "source": [
    "## Fetching\n",
    "Scrape emojis from unicode site and create database"
   ]
  },
  {
   "cell_type": "code",
   "execution_count": 7,
   "metadata": {},
   "outputs": [],
   "source": [
    "# create dictionary to store values\n",
    "data = {\"unicode\": [],\n",
    "        \"chars\": [],\n",
    "        \"fullname\": []}\n",
    "\n",
    "# iterate through rows in <tr>\n",
    "for rows in table_rows:\n",
    "    # get lists of all the <td> with class of \"code\" or \"name\"\n",
    "    emoji_codes = rows.find_all(class_=\"code\")\n",
    "    emoji_names = rows.find_all(class_=\"name\")\n",
    "    emoji_chars = rows.find_all(class_=\"chars\")\n",
    "\n",
    "    for code in emoji_codes:\n",
    "        unicode = str(code.text)\n",
    "        code_list = unicode.split(\" \")\n",
    "        emoji_code = \"\".join(list(map(combine_codes, code_list)))\n",
    "\n",
    "        data[\"unicode\"].append(emoji_code)\n",
    "\n",
    "    for char in emoji_codes:\n",
    "        data[\"chars\"].append(char.text)\n",
    "\n",
    "    for name in emoji_names:\n",
    "        # convert names to strings, remove ⊛ symbols and reformat certain emojis (e.g. family and flags)\n",
    "        emoji_name = str(name.text)\n",
    "        emoji_name = shortcode_cleanup(emoji_name)\n",
    "\n",
    "        if emoji_name[0] == \"⊛\":\n",
    "            emoji_name = emoji_name[2:]\n",
    "\n",
    "        data[\"fullname\"].append(emoji_name.lower())"
   ]
  },
  {
   "attachments": {},
   "cell_type": "markdown",
   "metadata": {},
   "source": [
    "## Parsing\n",
    "Process shortcodes from json and convert emojis to unicode characters so that they can be matched to the main dataframe."
   ]
  },
  {
   "cell_type": "code",
   "execution_count": 8,
   "metadata": {},
   "outputs": [
    {
     "data": {
      "text/html": [
       "<div>\n",
       "<style scoped>\n",
       "    .dataframe tbody tr th:only-of-type {\n",
       "        vertical-align: middle;\n",
       "    }\n",
       "\n",
       "    .dataframe tbody tr th {\n",
       "        vertical-align: top;\n",
       "    }\n",
       "\n",
       "    .dataframe thead th {\n",
       "        text-align: right;\n",
       "    }\n",
       "</style>\n",
       "<table border=\"1\" class=\"dataframe\">\n",
       "  <thead>\n",
       "    <tr style=\"text-align: right;\">\n",
       "      <th></th>\n",
       "      <th>unicode</th>\n",
       "      <th>shortcode</th>\n",
       "    </tr>\n",
       "  </thead>\n",
       "  <tbody>\n",
       "    <tr>\n",
       "      <th>0</th>\n",
       "      <td>\\U0001F600</td>\n",
       "      <td>grinning</td>\n",
       "    </tr>\n",
       "    <tr>\n",
       "      <th>1</th>\n",
       "      <td>\\U0001F62C</td>\n",
       "      <td>grimacing</td>\n",
       "    </tr>\n",
       "    <tr>\n",
       "      <th>2</th>\n",
       "      <td>\\U0001F601</td>\n",
       "      <td>grin</td>\n",
       "    </tr>\n",
       "    <tr>\n",
       "      <th>3</th>\n",
       "      <td>\\U0001F602</td>\n",
       "      <td>joy</td>\n",
       "    </tr>\n",
       "    <tr>\n",
       "      <th>4</th>\n",
       "      <td>\\U0001F923</td>\n",
       "      <td>rofl</td>\n",
       "    </tr>\n",
       "  </tbody>\n",
       "</table>\n",
       "</div>"
      ],
      "text/plain": [
       "      unicode  shortcode\n",
       "0  \\U0001F600   grinning\n",
       "1  \\U0001F62C  grimacing\n",
       "2  \\U0001F601       grin\n",
       "3  \\U0001F602        joy\n",
       "4  \\U0001F923       rofl"
      ]
     },
     "execution_count": 8,
     "metadata": {},
     "output_type": "execute_result"
    }
   ],
   "source": [
    "shortcodes_dict = {\"unicode\": [],\n",
    "                    \"shortcode\": []}\n",
    "\n",
    "for row in shortcodes_df.index:\n",
    "    emoji = shortcodes_df.loc[row, \"char\"]\n",
    "    unicode_string = emoji.encode('unicode-escape').decode('ASCII').upper()\n",
    "    unicode_string = shortcode_cleanup(unicode_string)\n",
    "\n",
    "    shortcodes_dict[\"unicode\"].append(unicode_string)\n",
    "    shortcodes_dict[\"shortcode\"].append(row)\n",
    "\n",
    "shortcode_lookup = pd.DataFrame(data=shortcodes_dict)\n",
    "shortcode_lookup.head()"
   ]
  },
  {
   "cell_type": "code",
   "execution_count": 9,
   "metadata": {},
   "outputs": [
    {
     "data": {
      "text/html": [
       "<div>\n",
       "<style scoped>\n",
       "    .dataframe tbody tr th:only-of-type {\n",
       "        vertical-align: middle;\n",
       "    }\n",
       "\n",
       "    .dataframe tbody tr th {\n",
       "        vertical-align: top;\n",
       "    }\n",
       "\n",
       "    .dataframe thead th {\n",
       "        text-align: right;\n",
       "    }\n",
       "</style>\n",
       "<table border=\"1\" class=\"dataframe\">\n",
       "  <thead>\n",
       "    <tr style=\"text-align: right;\">\n",
       "      <th></th>\n",
       "      <th>unicode</th>\n",
       "      <th>chars</th>\n",
       "      <th>fullname</th>\n",
       "    </tr>\n",
       "  </thead>\n",
       "  <tbody>\n",
       "    <tr>\n",
       "      <th>0</th>\n",
       "      <td>\\U0001F600</td>\n",
       "      <td>U+1F600</td>\n",
       "      <td>grinning face</td>\n",
       "    </tr>\n",
       "    <tr>\n",
       "      <th>1</th>\n",
       "      <td>\\U0001F603</td>\n",
       "      <td>U+1F603</td>\n",
       "      <td>grinning face with big eyes</td>\n",
       "    </tr>\n",
       "    <tr>\n",
       "      <th>2</th>\n",
       "      <td>\\U0001F604</td>\n",
       "      <td>U+1F604</td>\n",
       "      <td>grinning face with smiling eyes</td>\n",
       "    </tr>\n",
       "    <tr>\n",
       "      <th>3</th>\n",
       "      <td>\\U0001F601</td>\n",
       "      <td>U+1F601</td>\n",
       "      <td>beaming face with smiling eyes</td>\n",
       "    </tr>\n",
       "    <tr>\n",
       "      <th>4</th>\n",
       "      <td>\\U0001F606</td>\n",
       "      <td>U+1F606</td>\n",
       "      <td>grinning squinting face</td>\n",
       "    </tr>\n",
       "  </tbody>\n",
       "</table>\n",
       "</div>"
      ],
      "text/plain": [
       "      unicode    chars                         fullname\n",
       "0  \\U0001F600  U+1F600                    grinning face\n",
       "1  \\U0001F603  U+1F603      grinning face with big eyes\n",
       "2  \\U0001F604  U+1F604  grinning face with smiling eyes\n",
       "3  \\U0001F601  U+1F601   beaming face with smiling eyes\n",
       "4  \\U0001F606  U+1F606          grinning squinting face"
      ]
     },
     "execution_count": 9,
     "metadata": {},
     "output_type": "execute_result"
    }
   ],
   "source": [
    "df = pd.DataFrame(data=data)\n",
    "df.head()"
   ]
  },
  {
   "attachments": {},
   "cell_type": "markdown",
   "metadata": {},
   "source": [
    "## Match Shortcodes\n",
    "Merge the shortcode lookup dataframe with the complete emoji dataframe by unicode code. Any non-matching emojis without shortcodes will be left NaN and then replaced with the fullname."
   ]
  },
  {
   "cell_type": "code",
   "execution_count": 10,
   "metadata": {},
   "outputs": [
    {
     "data": {
      "text/html": [
       "<div>\n",
       "<style scoped>\n",
       "    .dataframe tbody tr th:only-of-type {\n",
       "        vertical-align: middle;\n",
       "    }\n",
       "\n",
       "    .dataframe tbody tr th {\n",
       "        vertical-align: top;\n",
       "    }\n",
       "\n",
       "    .dataframe thead th {\n",
       "        text-align: right;\n",
       "    }\n",
       "</style>\n",
       "<table border=\"1\" class=\"dataframe\">\n",
       "  <thead>\n",
       "    <tr style=\"text-align: right;\">\n",
       "      <th></th>\n",
       "      <th>unicode</th>\n",
       "      <th>chars</th>\n",
       "      <th>fullname</th>\n",
       "      <th>shortcode</th>\n",
       "    </tr>\n",
       "  </thead>\n",
       "  <tbody>\n",
       "    <tr>\n",
       "      <th>0</th>\n",
       "      <td>\\U0001F600</td>\n",
       "      <td>U+1F600</td>\n",
       "      <td>grinning face</td>\n",
       "      <td>grinning</td>\n",
       "    </tr>\n",
       "    <tr>\n",
       "      <th>1</th>\n",
       "      <td>\\U0001F603</td>\n",
       "      <td>U+1F603</td>\n",
       "      <td>grinning face with big eyes</td>\n",
       "      <td>smiley</td>\n",
       "    </tr>\n",
       "    <tr>\n",
       "      <th>2</th>\n",
       "      <td>\\U0001F604</td>\n",
       "      <td>U+1F604</td>\n",
       "      <td>grinning face with smiling eyes</td>\n",
       "      <td>smile</td>\n",
       "    </tr>\n",
       "    <tr>\n",
       "      <th>3</th>\n",
       "      <td>\\U0001F601</td>\n",
       "      <td>U+1F601</td>\n",
       "      <td>beaming face with smiling eyes</td>\n",
       "      <td>grin</td>\n",
       "    </tr>\n",
       "    <tr>\n",
       "      <th>4</th>\n",
       "      <td>\\U0001F606</td>\n",
       "      <td>U+1F606</td>\n",
       "      <td>grinning squinting face</td>\n",
       "      <td>laughing</td>\n",
       "    </tr>\n",
       "  </tbody>\n",
       "</table>\n",
       "</div>"
      ],
      "text/plain": [
       "      unicode    chars                         fullname shortcode\n",
       "0  \\U0001F600  U+1F600                    grinning face  grinning\n",
       "1  \\U0001F603  U+1F603      grinning face with big eyes    smiley\n",
       "2  \\U0001F604  U+1F604  grinning face with smiling eyes     smile\n",
       "3  \\U0001F601  U+1F601   beaming face with smiling eyes      grin\n",
       "4  \\U0001F606  U+1F606          grinning squinting face  laughing"
      ]
     },
     "execution_count": 10,
     "metadata": {},
     "output_type": "execute_result"
    }
   ],
   "source": [
    "combined_df = df.merge(shortcode_lookup, on=\"unicode\", how=\"left\")\n",
    "combined_df[\"shortcode\"].fillna(combined_df[\"fullname\"], inplace=True)\n",
    "\n",
    "convert_to_spaces(combined_df, True)\n",
    "\n",
    "combined_df.head()"
   ]
  },
  {
   "attachments": {},
   "cell_type": "markdown",
   "metadata": {},
   "source": [
    "## Generate Espanso Yaml Package"
   ]
  },
  {
   "cell_type": "code",
   "execution_count": 11,
   "metadata": {},
   "outputs": [],
   "source": [
    "generate_yaml(combined_df)"
   ]
  }
 ],
 "metadata": {
  "kernelspec": {
   "display_name": "Python 3",
   "language": "python",
   "name": "python3"
  },
  "language_info": {
   "codemirror_mode": {
    "name": "ipython",
    "version": 3
   },
   "file_extension": ".py",
   "mimetype": "text/x-python",
   "name": "python",
   "nbconvert_exporter": "python",
   "pygments_lexer": "ipython3",
   "version": "3.11.0"
  },
  "orig_nbformat": 4,
  "vscode": {
   "interpreter": {
    "hash": "c261aea317cc0286b3b3261fbba9abdec21eaa57589985bb7a274bf54d6cc0a7"
   }
  }
 },
 "nbformat": 4,
 "nbformat_minor": 2
}
